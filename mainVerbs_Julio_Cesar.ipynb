{
  "nbformat": 4,
  "nbformat_minor": 0,
  "metadata": {
    "colab": {
      "name": "Untitled3.ipynb",
      "provenance": [],
      "authorship_tag": "ABX9TyNn63li5ynmiAY8oyKkt/2I",
      "include_colab_link": true
    },
    "kernelspec": {
      "name": "python3",
      "display_name": "Python 3"
    },
    "language_info": {
      "name": "python"
    }
  },
  "cells": [
    {
      "cell_type": "markdown",
      "metadata": {
        "id": "view-in-github",
        "colab_type": "text"
      },
      "source": [
        "<a href=\"https://colab.research.google.com/github/julio2505/Jobtify-Custom-Package/blob/master/mainVerbs_Julio_Cesar.ipynb\" target=\"_parent\"><img src=\"https://colab.research.google.com/assets/colab-badge.svg\" alt=\"Open In Colab\"/></a>"
      ]
    },
    {
      "cell_type": "code",
      "metadata": {
        "colab": {
          "base_uri": "https://localhost:8080/"
        },
        "id": "IGCpI7H4Fs9k",
        "outputId": "4ec27709-9228-4b04-f50a-6da005deedfd"
      },
      "source": [
        "# Carga de packages\n",
        "  # install the library for Spacy (large set)\n",
        "\n",
        "!python -m spacy download en_core_web_lg "
      ],
      "execution_count": null,
      "outputs": [
        {
          "output_type": "stream",
          "text": [
            "Requirement already satisfied: en_core_web_lg==2.2.5 from https://github.com/explosion/spacy-models/releases/download/en_core_web_lg-2.2.5/en_core_web_lg-2.2.5.tar.gz#egg=en_core_web_lg==2.2.5 in /usr/local/lib/python3.7/dist-packages (2.2.5)\n",
            "Requirement already satisfied: spacy>=2.2.2 in /usr/local/lib/python3.7/dist-packages (from en_core_web_lg==2.2.5) (2.2.4)\n",
            "Requirement already satisfied: catalogue<1.1.0,>=0.0.7 in /usr/local/lib/python3.7/dist-packages (from spacy>=2.2.2->en_core_web_lg==2.2.5) (1.0.0)\n",
            "Requirement already satisfied: numpy>=1.15.0 in /usr/local/lib/python3.7/dist-packages (from spacy>=2.2.2->en_core_web_lg==2.2.5) (1.19.5)\n",
            "Requirement already satisfied: wasabi<1.1.0,>=0.4.0 in /usr/local/lib/python3.7/dist-packages (from spacy>=2.2.2->en_core_web_lg==2.2.5) (0.8.2)\n",
            "Requirement already satisfied: plac<1.2.0,>=0.9.6 in /usr/local/lib/python3.7/dist-packages (from spacy>=2.2.2->en_core_web_lg==2.2.5) (1.1.3)\n",
            "Requirement already satisfied: cymem<2.1.0,>=2.0.2 in /usr/local/lib/python3.7/dist-packages (from spacy>=2.2.2->en_core_web_lg==2.2.5) (2.0.5)\n",
            "Requirement already satisfied: preshed<3.1.0,>=3.0.2 in /usr/local/lib/python3.7/dist-packages (from spacy>=2.2.2->en_core_web_lg==2.2.5) (3.0.5)\n",
            "Requirement already satisfied: thinc==7.4.0 in /usr/local/lib/python3.7/dist-packages (from spacy>=2.2.2->en_core_web_lg==2.2.5) (7.4.0)\n",
            "Requirement already satisfied: tqdm<5.0.0,>=4.38.0 in /usr/local/lib/python3.7/dist-packages (from spacy>=2.2.2->en_core_web_lg==2.2.5) (4.41.1)\n",
            "Requirement already satisfied: blis<0.5.0,>=0.4.0 in /usr/local/lib/python3.7/dist-packages (from spacy>=2.2.2->en_core_web_lg==2.2.5) (0.4.1)\n",
            "Requirement already satisfied: requests<3.0.0,>=2.13.0 in /usr/local/lib/python3.7/dist-packages (from spacy>=2.2.2->en_core_web_lg==2.2.5) (2.23.0)\n",
            "Requirement already satisfied: setuptools in /usr/local/lib/python3.7/dist-packages (from spacy>=2.2.2->en_core_web_lg==2.2.5) (56.0.0)\n",
            "Requirement already satisfied: murmurhash<1.1.0,>=0.28.0 in /usr/local/lib/python3.7/dist-packages (from spacy>=2.2.2->en_core_web_lg==2.2.5) (1.0.5)\n",
            "Requirement already satisfied: srsly<1.1.0,>=1.0.2 in /usr/local/lib/python3.7/dist-packages (from spacy>=2.2.2->en_core_web_lg==2.2.5) (1.0.5)\n",
            "Requirement already satisfied: importlib-metadata>=0.20; python_version < \"3.8\" in /usr/local/lib/python3.7/dist-packages (from catalogue<1.1.0,>=0.0.7->spacy>=2.2.2->en_core_web_lg==2.2.5) (3.10.1)\n",
            "Requirement already satisfied: chardet<4,>=3.0.2 in /usr/local/lib/python3.7/dist-packages (from requests<3.0.0,>=2.13.0->spacy>=2.2.2->en_core_web_lg==2.2.5) (3.0.4)\n",
            "Requirement already satisfied: urllib3!=1.25.0,!=1.25.1,<1.26,>=1.21.1 in /usr/local/lib/python3.7/dist-packages (from requests<3.0.0,>=2.13.0->spacy>=2.2.2->en_core_web_lg==2.2.5) (1.24.3)\n",
            "Requirement already satisfied: certifi>=2017.4.17 in /usr/local/lib/python3.7/dist-packages (from requests<3.0.0,>=2.13.0->spacy>=2.2.2->en_core_web_lg==2.2.5) (2020.12.5)\n",
            "Requirement already satisfied: idna<3,>=2.5 in /usr/local/lib/python3.7/dist-packages (from requests<3.0.0,>=2.13.0->spacy>=2.2.2->en_core_web_lg==2.2.5) (2.10)\n",
            "Requirement already satisfied: typing-extensions>=3.6.4; python_version < \"3.8\" in /usr/local/lib/python3.7/dist-packages (from importlib-metadata>=0.20; python_version < \"3.8\"->catalogue<1.1.0,>=0.0.7->spacy>=2.2.2->en_core_web_lg==2.2.5) (3.7.4.3)\n",
            "Requirement already satisfied: zipp>=0.5 in /usr/local/lib/python3.7/dist-packages (from importlib-metadata>=0.20; python_version < \"3.8\"->catalogue<1.1.0,>=0.0.7->spacy>=2.2.2->en_core_web_lg==2.2.5) (3.4.1)\n",
            "\u001b[38;5;2m✔ Download and installation successful\u001b[0m\n",
            "You can now load the model via spacy.load('en_core_web_lg')\n"
          ],
          "name": "stdout"
        }
      ]
    },
    {
      "cell_type": "code",
      "metadata": {
        "id": "YY7m5xquF44g",
        "colab": {
          "base_uri": "https://localhost:8080/"
        },
        "outputId": "4aab02fc-0229-4314-8e09-4c096bbdb919"
      },
      "source": [
        "\n",
        "import spacy \n",
        "nlp = spacy.load('en_core_web_sm')\n",
        "\n",
        "# Create an nlp object\n",
        "doc = nlp(\"He drink to play basketball\")\n",
        "doc1 = nlp(\"He went basketball\")\n",
        "doc2 = nlp(\"He drink to play basketball\")\n",
        "doc3 = nlp(\"He drink to play basketball\")\n",
        "\n",
        "# Iterate over the tokens\n",
        "for token in doc:\n",
        "    # Print the token and its part-of-speech tag\n",
        "    if token.pos_ == \"VERB\":\n",
        "     print(token.text, \"-->\", token.pos_)\n",
        "     lines=token.text.lower()\n",
        "     break\n",
        "# Iterate over the tokens\n",
        "for token in doc1:\n",
        "    # Print the token and its part-of-speech tag\n",
        "    if token.pos_ == \"VERB\":\n",
        "     print(token.text, \"-->\", token.pos_)\n",
        "     lines1=token.text.lower()\n",
        "     break\n",
        "# Iterate over the tokens\n",
        "for token in doc2:\n",
        "    # Print the token and its part-of-speech tag\n",
        "    if token.pos_ == \"VERB\":\n",
        "     print(token.text, \"-->\", token.pos_)\n",
        "     lines2=token.text.lower()\n",
        "     break\n",
        "# Iterate over the tokens\n",
        "for token in doc3:\n",
        "    # Print the token and its part-of-speech tag\n",
        "    if token.pos_ == \"VERB\":\n",
        "     print(token.text, \"-->\", token.pos_)\n",
        "     lines3=token.text.lower()\n",
        "     break\n",
        "\n",
        "#print(lines)\n",
        "if lines == lines1 == lines2 == lines3:\n",
        "    print(\"[0,1,2,3]\")\n",
        "else:\n",
        "    if lines == lines1 == lines2:\n",
        "        print(\"[0,1,2]\")\n",
        "    else:\n",
        "        if lines == lines1 == lines3:\n",
        "           print(\"[0,1,3]\")\n",
        "        else:\n",
        "              if lines == lines2 == lines3:\n",
        "                  print(\"[0,2,3]\")\n",
        "              else:\n",
        "                  if lines1 == lines2 == lines3:\n",
        "                      print(\"[1,2,3]\")\n",
        "                  else:\n",
        "                      if lines == lines1:\n",
        "                        print(\"[0,1]\")\n",
        "                      else:\n",
        "                          if lines == lines2:\n",
        "                            print(\"[0,2]\")\n",
        "                          else:\n",
        "                              if lines1 == lines2:\n",
        "                                print(\"[1,2]\")\n",
        "                              else:\n",
        "                                  if lines2 == lines3:\n",
        "                                     print(\"[2,3]\")\n",
        "                                  else:\n",
        "                                      if lines == lines3:\n",
        "                                         print(\"[0,3]\")\n",
        "                                      else:\n",
        "                                          if lines1 == lines3:\n",
        "                                             print(\"[1,3]\")\n",
        "                                          \n",
        "\n"
      ],
      "execution_count": null,
      "outputs": [
        {
          "output_type": "stream",
          "text": [
            "drink --> VERB\n",
            "went --> VERB\n",
            "drink --> VERB\n",
            "drink --> VERB\n",
            "[0,2,3]\n"
          ],
          "name": "stdout"
        }
      ]
    }
  ]
}